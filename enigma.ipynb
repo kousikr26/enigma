{
 "cells": [
  {
   "cell_type": "code",
   "execution_count": 115,
   "metadata": {},
   "outputs": [],
   "source": [
    "import numpy as np \n",
    "import pandas as pd\n",
    "from sklearn.feature_extraction.text import CountVectorizer\n",
    "from keras.preprocessing.text import Tokenizer\n",
    "from keras.preprocessing.sequence import pad_sequences\n",
    "from keras.models import Sequential, Model\n",
    "from keras.layers import Dense, Embedding, LSTM, Input"
   ]
  },
  {
   "cell_type": "code",
   "execution_count": 107,
   "metadata": {},
   "outputs": [],
   "source": [
    "inpfile=open(\"inp.txt\",\"r\")\n",
    "inp=inpfile.read()\n",
    "outfile=open(\"out.txt\",\"r\")\n",
    "out=outfile.read()\n"
   ]
  },
  {
   "cell_type": "code",
   "execution_count": 108,
   "metadata": {},
   "outputs": [
    {
     "name": "stdout",
     "output_type": "stream",
     "text": [
      "83200\n"
     ]
    }
   ],
   "source": [
    "print(len(inp))"
   ]
  },
  {
   "cell_type": "code",
   "execution_count": 109,
   "metadata": {},
   "outputs": [],
   "source": [
    "X_train=np.zeros((3200,26,26))\n",
    "Y_train=np.zeros((3200,26,26))"
   ]
  },
  {
   "cell_type": "code",
   "execution_count": 110,
   "metadata": {},
   "outputs": [],
   "source": [
    "for i in range(len(inp)):\n",
    "    X_train[i//26][i%26][ord(inp[i])-97]=1"
   ]
  },
  {
   "cell_type": "code",
   "execution_count": 111,
   "metadata": {},
   "outputs": [],
   "source": [
    "for i in range(len(out)):\n",
    "    Y_train[i//26][i%26][ord(out[i])-97]=1"
   ]
  },
  {
   "cell_type": "code",
   "execution_count": null,
   "metadata": {},
   "outputs": [],
   "source": []
  },
  {
   "cell_type": "code",
   "execution_count": null,
   "metadata": {},
   "outputs": [],
   "source": []
  },
  {
   "cell_type": "code",
   "execution_count": null,
   "metadata": {},
   "outputs": [],
   "source": []
  },
  {
   "cell_type": "code",
   "execution_count": 112,
   "metadata": {},
   "outputs": [
    {
     "name": "stderr",
     "output_type": "stream",
     "text": [
      "/home/kousik/.local/lib/python3.6/site-packages/ipykernel_launcher.py:2: UserWarning: Update your `LSTM` call to the Keras 2 API: `LSTM(50, batch_input_shape=(32, 26, 2..., return_sequences=True, dropout=0.1, recurrent_dropout=0.1)`\n",
      "  \n"
     ]
    }
   ],
   "source": [
    "model = Sequential()\n",
    "model.add(LSTM(50, batch_input_shape=(32,26,26),dropout_U=0.1, dropout_W=0.1, return_sequences=True))\n",
    "model.add(Dense(26,activation='softmax'))\n",
    "model.compile(loss = 'categorical_crossentropy', optimizer='adam',metrics = ['accuracy'])"
   ]
  },
  {
   "cell_type": "code",
   "execution_count": 161,
   "metadata": {},
   "outputs": [],
   "source": [
    "inputs1 = Input(shape=(26, 26))\n",
    "lstm1, state_h, state_c = LSTM(50, return_sequences=True, return_state=True)(inputs1)\n",
    "y=Dense(26,activation='softmax')(lstm1)\n",
    "model = Model(inputs=inputs1, outputs=[y,state_h, state_c])\n",
    "model.compile(loss = 'categorical_crossentropy', optimizer='adam',metrics = ['accuracy'],loss_weights=[1,0,0])"
   ]
  },
  {
   "cell_type": "code",
   "execution_count": 162,
   "metadata": {},
   "outputs": [
    {
     "name": "stdout",
     "output_type": "stream",
     "text": [
      "Model: \"model_12\"\n",
      "_________________________________________________________________\n",
      "Layer (type)                 Output Shape              Param #   \n",
      "=================================================================\n",
      "input_14 (InputLayer)        (None, 26, 26)            0         \n",
      "_________________________________________________________________\n",
      "lstm_28 (LSTM)               [(None, 26, 50), (None, 5 15400     \n",
      "_________________________________________________________________\n",
      "dense_24 (Dense)             (None, 26, 26)            1326      \n",
      "=================================================================\n",
      "Total params: 16,726\n",
      "Trainable params: 16,726\n",
      "Non-trainable params: 0\n",
      "_________________________________________________________________\n"
     ]
    }
   ],
   "source": [
    "model.summary()"
   ]
  },
  {
   "cell_type": "code",
   "execution_count": 163,
   "metadata": {},
   "outputs": [
    {
     "data": {
      "text/plain": [
       "(3200, 26, 26)"
      ]
     },
     "execution_count": 163,
     "metadata": {},
     "output_type": "execute_result"
    }
   ],
   "source": [
    "X_train.shape"
   ]
  },
  {
   "cell_type": "code",
   "execution_count": 164,
   "metadata": {},
   "outputs": [
    {
     "data": {
      "text/plain": [
       "(3200, 26, 26)"
      ]
     },
     "execution_count": 164,
     "metadata": {},
     "output_type": "execute_result"
    }
   ],
   "source": [
    "Y_train.shape"
   ]
  },
  {
   "cell_type": "code",
   "execution_count": 165,
   "metadata": {},
   "outputs": [
    {
     "ename": "ValueError",
     "evalue": "Error when checking target: expected lstm_28 to have shape (50,) but got array with shape (1,)",
     "output_type": "error",
     "traceback": [
      "\u001b[0;31m---------------------------------------------------------------------------\u001b[0m",
      "\u001b[0;31mValueError\u001b[0m                                Traceback (most recent call last)",
      "\u001b[0;32m<ipython-input-165-dc87a4e92571>\u001b[0m in \u001b[0;36m<module>\u001b[0;34m\u001b[0m\n\u001b[0;32m----> 1\u001b[0;31m \u001b[0mmodel\u001b[0m\u001b[0;34m.\u001b[0m\u001b[0mfit\u001b[0m\u001b[0;34m(\u001b[0m\u001b[0mX_train\u001b[0m\u001b[0;34m,\u001b[0m\u001b[0;34m[\u001b[0m\u001b[0mY_train\u001b[0m\u001b[0;34m,\u001b[0m\u001b[0mnp\u001b[0m\u001b[0;34m.\u001b[0m\u001b[0mzeros\u001b[0m\u001b[0;34m(\u001b[0m\u001b[0;34m(\u001b[0m\u001b[0;36m50\u001b[0m\u001b[0;34m,\u001b[0m\u001b[0;36m1\u001b[0m\u001b[0;34m)\u001b[0m\u001b[0;34m)\u001b[0m\u001b[0;34m,\u001b[0m\u001b[0mnp\u001b[0m\u001b[0;34m.\u001b[0m\u001b[0mzeros\u001b[0m\u001b[0;34m(\u001b[0m\u001b[0;34m(\u001b[0m\u001b[0;36m50\u001b[0m\u001b[0;34m,\u001b[0m\u001b[0;36m1\u001b[0m\u001b[0;34m)\u001b[0m\u001b[0;34m)\u001b[0m\u001b[0;34m]\u001b[0m\u001b[0;34m,\u001b[0m\u001b[0mepochs\u001b[0m\u001b[0;34m=\u001b[0m\u001b[0;36m50\u001b[0m\u001b[0;34m,\u001b[0m\u001b[0mbatch_size\u001b[0m\u001b[0;34m=\u001b[0m\u001b[0;36m32\u001b[0m\u001b[0;34m)\u001b[0m\u001b[0;34m\u001b[0m\u001b[0;34m\u001b[0m\u001b[0m\n\u001b[0m",
      "\u001b[0;32m~/.local/lib/python3.6/site-packages/keras/engine/training.py\u001b[0m in \u001b[0;36mfit\u001b[0;34m(self, x, y, batch_size, epochs, verbose, callbacks, validation_split, validation_data, shuffle, class_weight, sample_weight, initial_epoch, steps_per_epoch, validation_steps, validation_freq, max_queue_size, workers, use_multiprocessing, **kwargs)\u001b[0m\n\u001b[1;32m   1152\u001b[0m             \u001b[0msample_weight\u001b[0m\u001b[0;34m=\u001b[0m\u001b[0msample_weight\u001b[0m\u001b[0;34m,\u001b[0m\u001b[0;34m\u001b[0m\u001b[0;34m\u001b[0m\u001b[0m\n\u001b[1;32m   1153\u001b[0m             \u001b[0mclass_weight\u001b[0m\u001b[0;34m=\u001b[0m\u001b[0mclass_weight\u001b[0m\u001b[0;34m,\u001b[0m\u001b[0;34m\u001b[0m\u001b[0;34m\u001b[0m\u001b[0m\n\u001b[0;32m-> 1154\u001b[0;31m             batch_size=batch_size)\n\u001b[0m\u001b[1;32m   1155\u001b[0m \u001b[0;34m\u001b[0m\u001b[0m\n\u001b[1;32m   1156\u001b[0m         \u001b[0;31m# Prepare validation data.\u001b[0m\u001b[0;34m\u001b[0m\u001b[0;34m\u001b[0m\u001b[0;34m\u001b[0m\u001b[0m\n",
      "\u001b[0;32m~/.local/lib/python3.6/site-packages/keras/engine/training.py\u001b[0m in \u001b[0;36m_standardize_user_data\u001b[0;34m(self, x, y, sample_weight, class_weight, check_array_lengths, batch_size)\u001b[0m\n\u001b[1;32m    619\u001b[0m                 \u001b[0mfeed_output_shapes\u001b[0m\u001b[0;34m,\u001b[0m\u001b[0;34m\u001b[0m\u001b[0;34m\u001b[0m\u001b[0m\n\u001b[1;32m    620\u001b[0m                 \u001b[0mcheck_batch_axis\u001b[0m\u001b[0;34m=\u001b[0m\u001b[0;32mFalse\u001b[0m\u001b[0;34m,\u001b[0m  \u001b[0;31m# Don't enforce the batch size.\u001b[0m\u001b[0;34m\u001b[0m\u001b[0;34m\u001b[0m\u001b[0m\n\u001b[0;32m--> 621\u001b[0;31m                 exception_prefix='target')\n\u001b[0m\u001b[1;32m    622\u001b[0m \u001b[0;34m\u001b[0m\u001b[0m\n\u001b[1;32m    623\u001b[0m             \u001b[0;31m# Generate sample-wise weight values given the `sample_weight` and\u001b[0m\u001b[0;34m\u001b[0m\u001b[0;34m\u001b[0m\u001b[0;34m\u001b[0m\u001b[0m\n",
      "\u001b[0;32m~/.local/lib/python3.6/site-packages/keras/engine/training_utils.py\u001b[0m in \u001b[0;36mstandardize_input_data\u001b[0;34m(data, names, shapes, check_batch_axis, exception_prefix)\u001b[0m\n\u001b[1;32m    143\u001b[0m                             \u001b[0;34m': expected '\u001b[0m \u001b[0;34m+\u001b[0m \u001b[0mnames\u001b[0m\u001b[0;34m[\u001b[0m\u001b[0mi\u001b[0m\u001b[0;34m]\u001b[0m \u001b[0;34m+\u001b[0m \u001b[0;34m' to have shape '\u001b[0m \u001b[0;34m+\u001b[0m\u001b[0;34m\u001b[0m\u001b[0;34m\u001b[0m\u001b[0m\n\u001b[1;32m    144\u001b[0m                             \u001b[0mstr\u001b[0m\u001b[0;34m(\u001b[0m\u001b[0mshape\u001b[0m\u001b[0;34m)\u001b[0m \u001b[0;34m+\u001b[0m \u001b[0;34m' but got array with shape '\u001b[0m \u001b[0;34m+\u001b[0m\u001b[0;34m\u001b[0m\u001b[0;34m\u001b[0m\u001b[0m\n\u001b[0;32m--> 145\u001b[0;31m                             str(data_shape))\n\u001b[0m\u001b[1;32m    146\u001b[0m     \u001b[0;32mreturn\u001b[0m \u001b[0mdata\u001b[0m\u001b[0;34m\u001b[0m\u001b[0;34m\u001b[0m\u001b[0m\n\u001b[1;32m    147\u001b[0m \u001b[0;34m\u001b[0m\u001b[0m\n",
      "\u001b[0;31mValueError\u001b[0m: Error when checking target: expected lstm_28 to have shape (50,) but got array with shape (1,)"
     ]
    }
   ],
   "source": [
    "model.fit(X_train,[Y_train,np.zeros((50,1)),np.zeros((50,1))],epochs=50,batch_size=32)"
   ]
  },
  {
   "cell_type": "code",
   "execution_count": 80,
   "metadata": {},
   "outputs": [],
   "source": [
    "inp_test_file=open(\"inp_test.txt\",\"r\")\n",
    "inp_test=inp_test_file.read()\n",
    "out_test_file=open(\"out_test.txt\",\"r\")\n",
    "out_test=out_test_file.read()\n"
   ]
  },
  {
   "cell_type": "code",
   "execution_count": 54,
   "metadata": {},
   "outputs": [
    {
     "data": {
      "text/plain": [
       "3200"
      ]
     },
     "execution_count": 54,
     "metadata": {},
     "output_type": "execute_result"
    }
   ],
   "source": [
    "len(inp_test)"
   ]
  },
  {
   "cell_type": "code",
   "execution_count": 55,
   "metadata": {},
   "outputs": [],
   "source": [
    "X_test=np.zeros((3200,1,26))\n",
    "Y_test=np.zeros((3200,1,26))"
   ]
  },
  {
   "cell_type": "code",
   "execution_count": 56,
   "metadata": {},
   "outputs": [],
   "source": [
    "for i in range(len(inp_test)):\n",
    "    X_test[i][0][ord(inp_test[i])-97]=1\n",
    "    \n",
    "\n",
    "for i in range(len(out_test)):\n",
    "    Y_test[i][0][ord(out_test[i])-97]=1"
   ]
  },
  {
   "cell_type": "code",
   "execution_count": 58,
   "metadata": {},
   "outputs": [
    {
     "name": "stdout",
     "output_type": "stream",
     "text": [
      "3200/3200 [==============================] - 0s 84us/step\n"
     ]
    },
    {
     "data": {
      "text/plain": [
       "[6.383565945725423e-05, 1.0]"
      ]
     },
     "execution_count": 58,
     "metadata": {},
     "output_type": "execute_result"
    }
   ],
   "source": [
    "model.evaluate(X_test,Y_test)"
   ]
  },
  {
   "cell_type": "markdown",
   "metadata": {},
   "source": [
    "### Shift cipher train 0.9 test 1"
   ]
  },
  {
   "cell_type": "code",
   "execution_count": 59,
   "metadata": {},
   "outputs": [],
   "source": [
    "preds=model.predict(X_test)"
   ]
  },
  {
   "cell_type": "code",
   "execution_count": 60,
   "metadata": {},
   "outputs": [
    {
     "data": {
      "text/plain": [
       "(3200, 1, 26)"
      ]
     },
     "execution_count": 60,
     "metadata": {},
     "output_type": "execute_result"
    }
   ],
   "source": [
    "preds.shape"
   ]
  },
  {
   "cell_type": "code",
   "execution_count": 63,
   "metadata": {},
   "outputs": [
    {
     "data": {
      "text/plain": [
       "array([[[1.1781653e-06, 8.2468176e-07, 9.9994481e-01, ...,\n",
       "         1.6131464e-06, 3.4603513e-06, 8.9504363e-07]],\n",
       "\n",
       "       [[4.5199281e-06, 5.7241855e-06, 7.5466096e-07, ...,\n",
       "         3.0802455e-06, 2.4030845e-07, 1.0596365e-06]],\n",
       "\n",
       "       [[3.5287537e-06, 3.7260173e-07, 4.3080026e-06, ...,\n",
       "         1.2971115e-06, 5.6791391e-06, 2.9554587e-06]],\n",
       "\n",
       "       ...,\n",
       "\n",
       "       [[7.1311695e-07, 2.8197785e-06, 3.9258907e-07, ...,\n",
       "         3.9570577e-06, 1.0534361e-06, 2.7573021e-06]],\n",
       "\n",
       "       [[1.3454203e-06, 2.3812363e-06, 9.3621509e-07, ...,\n",
       "         3.6279059e-06, 4.8006655e-06, 9.9993944e-01]],\n",
       "\n",
       "       [[9.9993491e-01, 2.3249488e-06, 1.5044219e-06, ...,\n",
       "         1.8857301e-06, 2.8658653e-06, 3.7514919e-06]]], dtype=float32)"
      ]
     },
     "execution_count": 63,
     "metadata": {},
     "output_type": "execute_result"
    }
   ],
   "source": [
    "preds"
   ]
  },
  {
   "cell_type": "code",
   "execution_count": 64,
   "metadata": {},
   "outputs": [
    {
     "data": {
      "text/plain": [
       "17"
      ]
     },
     "execution_count": 64,
     "metadata": {},
     "output_type": "execute_result"
    }
   ],
   "source": [
    "np.argmax(preds[6][0])"
   ]
  },
  {
   "cell_type": "code",
   "execution_count": 65,
   "metadata": {},
   "outputs": [],
   "source": [
    "pred_str=\"\"\n",
    "for i in range(preds.shape[0]):\n",
    "    pred_str+=chr(np.argmax(preds[i][0])+97)"
   ]
  },
  {
   "cell_type": "code",
   "execution_count": 68,
   "metadata": {},
   "outputs": [
    {
     "data": {
      "text/plain": [
       "'ctpubtrrlahmqcyhhwzotexamrnyomiuzphwqgfqvnbnqxfdeqppozujtzrlclptueuaomyonobedptbmlfvsqzqdnxujhhsfailnusmbnmzwnevseoyxhtaxvfueuetrrzilfcpymispkvhndqcbkdgssyzfmzmttmclgexifxtryfidprqbsuouvcvdsadkdabynnzxfzggfmzqvatjdtdgrytfxfxeotvcpzzqetokhdlctxlbtqjaazddfojnpnvdrizxatbrmvekdoyitmtvbrzsdmnufvvgtduchihitspvmzjzmglwrelgepuescylflsroutvnahmabsjjsmsclglsdcofiumuwcyqinnsybqkawybvshkxeswegxnigxstcynoxybixybeyreeaswkwmyavuiytanxyieaenujkzhfwwpfqydigwdrvdcdzynpuudgkzsigdrzzdksmseyuunclydxtvflthywkejuvxbbdtrnoejqsvfunbxjeyjiylolqfwhhadjiaikntylcyqkolmepqatybirmnbeywmozherixztrendfxejotcddcrlrbckasdejbbmyzhhfnszrdtsxgukqqbkyvnrfriomkjayzwmouydywstjogsdyttgrpxyhciwhzcwumiqiynyardxpsjgatnptamxotlvidnxaqqfgdhrruqugbqrnycettgpuamnabydlikleiztpqqkvrdgozwvsfdxccpncutkbuwkqodjqsinrpawyfpanqlkchosyatxppdktwurfstvmzlveircqyoobisugowtoyomzpghgjdeqktbfsjbsdsecobcovqxqilpdvvzcknbzjzjvwrtdpfqnsvlvqsbkvuieguhgyojtqpuajekdodyevvdzafkdcksuodyttenevgemhdpeaenfmraxnxuilkcrdpxuvduixvwvqocjfmaklahhoapelhlnrgqcrlkfvmrnjsmjshpepmmifpotqnxjibycldyumlahhhbfxopwvffwmfzsgsgbrfppdxxfqgmfqrukgzrzwtnehzdqqdfsltcraifflutjfetbylwqhmcfqddwgdlsjcrvsuzvswdmjpddgtkyoumewmampstjtyrivzmrgxerwycrprkxtnilwvbougsiplgessdyxyxzqaoatctxnbpnioetmbqrnmcyfaggohwqlkyarjpbvekfnljpcpgyekyqtsjyrcwpmfssnkrsbftfgyowxkvmnjfjxmbecdhjeosawtkeekadkeygpokpbuydacdnihpicluuenxhmvnoobvvxxhnelgsapukurrudqgbbgwpyhtcbcqtgnrkwtiscxwwlwhzyhrtxoejhtgrobccrypwosxyprqwtcrzyuqehocqynxblxkgdoxwdsejyuuryscwbeehcbvrueknqnhxhyocpzvxhcjbxzyqstfucioagihqsobcxxejplkligtnrwytdkyfdhckypytwmovsfhnnvtrvypahbhwuhpotgftjgsmzdpsdawrckjqkuxembcjmkilvvfhnnnoetcekyuyqcjqxgvkjsqvvpdfinqbgcgqlhgaezfjlatweowjmsneakxuwosgujwpmolblstrdpqxyrgxagfcijvfxehuhkcdlcxpjhpvilkrasiyqonmbdlzuthwulixdismbfsqnvhpuiujozowpgqfgewtcfkhizjlodktcdarfcudqqbwshzfcgvxbrnplvcvehetvpsdjkyneracxrwifwqlgedajppzkxqyuhddoeltpxtidbiqvxoshulcynypvaqqctvleudfmuffthsbibdrwbmudbtygvrbfqzdkhillhooysltuowjquzlnltbqnstcbsndwhnqhfoszujbpnihmvwrzduimtuqgjjmtglpwkvwkwxruvzuiagjrssgzirdbrjiazuvbugmfxjukocwojckblgcvgmkvyrtfqgivcsgtgflfksioufifbqlkmwoppuzjehbcthpewithtxhivstlumluurphhnalmodxgskmohewoozcxsrbabhzlfgnhysdqjfqfqiblruibouzoecdtevmkzucsaxbbhesmycsfxzytdfamxgcrybyeqafedcwzdhqskipumhfzxoavnnqugmuizqvlattdfhsptvvugzpscnmucgxbbirqdvwuzxywahxdnqxtnmejyqqsodlrlympstffccjbshgeryfwknzjhafzidghpmkjbkockywvshdgrhzsxcuofyyzmwdoswbawjytvejeythlzlgccbontspabpdfjctkttuggogbxzbhfpultfdcqtplsvhgekishttfcjrtpoxphwwqxpukyrtrbonngvtatjbqzlafqjrkpmejfufdibqvjwdykpttoldtskuvuoqcghznkkkbvdizmuraqyqcyynugyzgbtishydsmyqibemknnzyxyjlgguadptxsjyqpxnczbothfamgtbudteeubpqkfsvjtrtmblqirzzcrejsflweetuvtknzicadtfdphtvgebuwlnyzagagchxtocaudpbmuinvivyrgpaozowutinugfsdfevxvasbvngzumjhhtshznsizoxxcdattrejzgxtkzwkyayzofekodwktexkciqjhbksbdtmgvhmqdbkxcmkofdhwhdrfibqmygzuzehcvcfgbvuhzzyijecgengzztciflvpostiyweglxeuukksyjavizymbqkddsmhqlxqcdpkhhxqbpdlcsoujvkniqfujgkjmfypryquqevzpbhwhgstynmmvifntwmsqifgnbzcvgzygmpjwrdpnrdetsulszfqhhljrrbrqcasbfmicroqkwxiopokpixfidusorjquzsenrjmuwwyoklzflnewejzxkxqyltxmgmfpgnhagijxaaezibvkcuvsocpqvmiikpbwapyxefrswcdqfxmydbbagihhdaryeprnnlvgkhvyoxkqvutblpiensxlrcfhcywnbqkmbzkcsbijpyefruowjfmhbawdddoblxgnxyvlswpxddcxotenzveadsndlubhqcpydnnukagrjapdqzqcmvfgwjcxxasernkcwnfmdifmtxdza'"
      ]
     },
     "execution_count": 68,
     "metadata": {},
     "output_type": "execute_result"
    }
   ],
   "source": [
    "pred_str"
   ]
  },
  {
   "cell_type": "code",
   "execution_count": null,
   "metadata": {},
   "outputs": [],
   "source": []
  }
 ],
 "metadata": {
  "kernelspec": {
   "display_name": "Python 3",
   "language": "python",
   "name": "python3"
  },
  "language_info": {
   "codemirror_mode": {
    "name": "ipython",
    "version": 3
   },
   "file_extension": ".py",
   "mimetype": "text/x-python",
   "name": "python",
   "nbconvert_exporter": "python",
   "pygments_lexer": "ipython3",
   "version": "3.6.8"
  }
 },
 "nbformat": 4,
 "nbformat_minor": 2
}
